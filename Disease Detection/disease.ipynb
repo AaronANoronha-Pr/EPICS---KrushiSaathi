{
 "cells": [
  {
   "cell_type": "code",
   "execution_count": 1,
   "id": "3a1acce3",
   "metadata": {},
   "outputs": [
    {
     "name": "stderr",
     "output_type": "stream",
     "text": [
      "2024-03-05 14:44:38.028962: I tensorflow/core/platform/cpu_feature_guard.cc:193] This TensorFlow binary is optimized with oneAPI Deep Neural Network Library (oneDNN) to use the following CPU instructions in performance-critical operations:  AVX2 FMA\n",
      "To enable them in other operations, rebuild TensorFlow with the appropriate compiler flags.\n",
      "2024-03-05 14:44:38.387067: E tensorflow/stream_executor/cuda/cuda_blas.cc:2981] Unable to register cuBLAS factory: Attempting to register factory for plugin cuBLAS when one has already been registered\n",
      "2024-03-05 14:44:39.387031: W tensorflow/stream_executor/platform/default/dso_loader.cc:64] Could not load dynamic library 'libnvinfer.so.7'; dlerror: libnvinfer.so.7: cannot open shared object file: No such file or directory; LD_LIBRARY_PATH: :/home/aaron/anaconda3/envs/tf/lib/\n",
      "2024-03-05 14:44:39.387324: W tensorflow/stream_executor/platform/default/dso_loader.cc:64] Could not load dynamic library 'libnvinfer_plugin.so.7'; dlerror: libnvinfer_plugin.so.7: cannot open shared object file: No such file or directory; LD_LIBRARY_PATH: :/home/aaron/anaconda3/envs/tf/lib/\n",
      "2024-03-05 14:44:39.387331: W tensorflow/compiler/tf2tensorrt/utils/py_utils.cc:38] TF-TRT Warning: Cannot dlopen some TensorRT libraries. If you would like to use Nvidia GPU with TensorRT, please make sure the missing libraries mentioned above are installed properly.\n"
     ]
    }
   ],
   "source": [
    "import tensorflow as tf\n",
    "from tensorflow.keras.preprocessing.image import ImageDataGenerator\n",
    "from tensorflow.keras.models import Sequential\n",
    "from tensorflow.keras.layers import Conv2D, MaxPooling2D, Flatten, Dense, Dropout\n",
    "from tensorflow.keras.applications.vgg16 import VGG16\n",
    "from tensorflow.keras.callbacks import EarlyStopping"
   ]
  },
  {
   "cell_type": "code",
   "execution_count": 2,
   "id": "40a2f454",
   "metadata": {},
   "outputs": [],
   "source": [
    "train_data_dir = '/media/aaron/Local Disk/EPICS/DiseaseDect/archive (4)/new plant diseases dataset(augmented)/New Plant Diseases Dataset(Augmented)/train/'\n",
    "train_datagen = ImageDataGenerator(\n",
    "    rescale=1./255.,\n",
    "    rotation_range=40,\n",
    "    width_shift_range=0.2,\n",
    "    height_shift_range=0.2,\n",
    "    shear_range=0.2,\n",
    "    zoom_range=0.2,\n",
    "    horizontal_flip=True\n",
    ")"
   ]
  },
  {
   "cell_type": "code",
   "execution_count": 3,
   "id": "f9b862ae",
   "metadata": {},
   "outputs": [
    {
     "name": "stdout",
     "output_type": "stream",
     "text": [
      "Found 70295 images belonging to 38 classes.\n"
     ]
    }
   ],
   "source": [
    "train_generator = train_datagen.flow_from_directory(\n",
    "    train_data_dir,\n",
    "    batch_size=20,\n",
    "    class_mode='categorical',\n",
    "    target_size=(224, 224)\n",
    ")"
   ]
  },
  {
   "cell_type": "code",
   "execution_count": 4,
   "id": "4fb66c22",
   "metadata": {},
   "outputs": [
    {
     "name": "stderr",
     "output_type": "stream",
     "text": [
      "2024-03-05 14:45:28.469947: I tensorflow/stream_executor/cuda/cuda_gpu_executor.cc:980] successful NUMA node read from SysFS had negative value (-1), but there must be at least one NUMA node, so returning NUMA node zero\n",
      "2024-03-05 14:45:28.506998: I tensorflow/stream_executor/cuda/cuda_gpu_executor.cc:980] successful NUMA node read from SysFS had negative value (-1), but there must be at least one NUMA node, so returning NUMA node zero\n",
      "2024-03-05 14:45:28.507275: I tensorflow/stream_executor/cuda/cuda_gpu_executor.cc:980] successful NUMA node read from SysFS had negative value (-1), but there must be at least one NUMA node, so returning NUMA node zero\n",
      "2024-03-05 14:45:28.507863: I tensorflow/core/platform/cpu_feature_guard.cc:193] This TensorFlow binary is optimized with oneAPI Deep Neural Network Library (oneDNN) to use the following CPU instructions in performance-critical operations:  AVX2 FMA\n",
      "To enable them in other operations, rebuild TensorFlow with the appropriate compiler flags.\n",
      "2024-03-05 14:45:28.508686: I tensorflow/stream_executor/cuda/cuda_gpu_executor.cc:980] successful NUMA node read from SysFS had negative value (-1), but there must be at least one NUMA node, so returning NUMA node zero\n",
      "2024-03-05 14:45:28.508957: I tensorflow/stream_executor/cuda/cuda_gpu_executor.cc:980] successful NUMA node read from SysFS had negative value (-1), but there must be at least one NUMA node, so returning NUMA node zero\n",
      "2024-03-05 14:45:28.509149: I tensorflow/stream_executor/cuda/cuda_gpu_executor.cc:980] successful NUMA node read from SysFS had negative value (-1), but there must be at least one NUMA node, so returning NUMA node zero\n",
      "2024-03-05 14:45:29.365027: I tensorflow/stream_executor/cuda/cuda_gpu_executor.cc:980] successful NUMA node read from SysFS had negative value (-1), but there must be at least one NUMA node, so returning NUMA node zero\n",
      "2024-03-05 14:45:29.365851: I tensorflow/stream_executor/cuda/cuda_gpu_executor.cc:980] successful NUMA node read from SysFS had negative value (-1), but there must be at least one NUMA node, so returning NUMA node zero\n",
      "2024-03-05 14:45:29.366139: I tensorflow/stream_executor/cuda/cuda_gpu_executor.cc:980] successful NUMA node read from SysFS had negative value (-1), but there must be at least one NUMA node, so returning NUMA node zero\n",
      "2024-03-05 14:45:29.366329: I tensorflow/core/common_runtime/gpu/gpu_device.cc:1616] Created device /job:localhost/replica:0/task:0/device:GPU:0 with 2114 MB memory:  -> device: 0, name: NVIDIA GeForce RTX 3050 Laptop GPU, pci bus id: 0000:01:00.0, compute capability: 8.6\n",
      "/home/aaron/anaconda3/envs/tf/lib/python3.9/site-packages/keras/optimizers/optimizer_v2/rmsprop.py:140: UserWarning: The `lr` argument is deprecated, use `learning_rate` instead.\n",
      "  super().__init__(name, **kwargs)\n",
      "2024-03-05 14:45:32.013095: I tensorflow/stream_executor/cuda/cuda_dnn.cc:384] Loaded cuDNN version 8100\n",
      "2024-03-05 14:45:35.949501: I tensorflow/core/platform/default/subprocess.cc:304] Start cannot spawn child process: No such file or directory\n",
      "2024-03-05 14:45:35.951387: I tensorflow/core/platform/default/subprocess.cc:304] Start cannot spawn child process: No such file or directory\n",
      "2024-03-05 14:45:35.951441: W tensorflow/stream_executor/gpu/asm_compiler.cc:80] Couldn't get ptxas version string: INTERNAL: Couldn't invoke ptxas --version\n",
      "2024-03-05 14:45:35.952816: I tensorflow/core/platform/default/subprocess.cc:304] Start cannot spawn child process: No such file or directory\n",
      "2024-03-05 14:45:35.952941: W tensorflow/stream_executor/gpu/redzone_allocator.cc:314] INTERNAL: Failed to launch ptxas\n",
      "Relying on driver to perform ptx compilation. \n",
      "Modify $PATH to customize ptxas location.\n",
      "This message will be only logged once.\n",
      "2024-03-05 14:45:37.358214: W tensorflow/core/common_runtime/bfc_allocator.cc:290] Allocator (GPU_0_bfc) ran out of memory trying to allocate 2.17GiB with freed_by_count=0. The caller indicates that this is not a failure, but this may mean that there could be performance gains if more memory were available.\n",
      "2024-03-05 14:45:37.358259: W tensorflow/core/common_runtime/bfc_allocator.cc:290] Allocator (GPU_0_bfc) ran out of memory trying to allocate 2.17GiB with freed_by_count=0. The caller indicates that this is not a failure, but this may mean that there could be performance gains if more memory were available.\n",
      "2024-03-05 14:45:37.358268: W tensorflow/core/common_runtime/bfc_allocator.cc:290] Allocator (GPU_0_bfc) ran out of memory trying to allocate 2.66GiB with freed_by_count=0. The caller indicates that this is not a failure, but this may mean that there could be performance gains if more memory were available.\n",
      "2024-03-05 14:45:37.358276: W tensorflow/core/common_runtime/bfc_allocator.cc:290] Allocator (GPU_0_bfc) ran out of memory trying to allocate 2.66GiB with freed_by_count=0. The caller indicates that this is not a failure, but this may mean that there could be performance gains if more memory were available.\n",
      "2024-03-05 14:45:37.430928: W tensorflow/core/common_runtime/bfc_allocator.cc:290] Allocator (GPU_0_bfc) ran out of memory trying to allocate 1.74GiB with freed_by_count=0. The caller indicates that this is not a failure, but this may mean that there could be performance gains if more memory were available.\n",
      "2024-03-05 14:45:37.430965: W tensorflow/core/common_runtime/bfc_allocator.cc:290] Allocator (GPU_0_bfc) ran out of memory trying to allocate 1.74GiB with freed_by_count=0. The caller indicates that this is not a failure, but this may mean that there could be performance gains if more memory were available.\n",
      "2024-03-05 14:45:38.904604: W tensorflow/core/common_runtime/bfc_allocator.cc:290] Allocator (GPU_0_bfc) ran out of memory trying to allocate 2.36GiB with freed_by_count=0. The caller indicates that this is not a failure, but this may mean that there could be performance gains if more memory were available.\n",
      "2024-03-05 14:45:38.904649: W tensorflow/core/common_runtime/bfc_allocator.cc:290] Allocator (GPU_0_bfc) ran out of memory trying to allocate 2.36GiB with freed_by_count=0. The caller indicates that this is not a failure, but this may mean that there could be performance gains if more memory were available.\n",
      "2024-03-05 14:45:40.379962: W tensorflow/core/common_runtime/bfc_allocator.cc:290] Allocator (GPU_0_bfc) ran out of memory trying to allocate 2.24GiB with freed_by_count=0. The caller indicates that this is not a failure, but this may mean that there could be performance gains if more memory were available.\n",
      "2024-03-05 14:45:40.380001: W tensorflow/core/common_runtime/bfc_allocator.cc:290] Allocator (GPU_0_bfc) ran out of memory trying to allocate 2.24GiB with freed_by_count=0. The caller indicates that this is not a failure, but this may mean that there could be performance gains if more memory were available.\n"
     ]
    },
    {
     "name": "stdout",
     "output_type": "stream",
     "text": [
      " 2/20 [==>...........................] - ETA: 2s - loss: -102.1833 - acc: 0.0000e+00"
     ]
    },
    {
     "name": "stderr",
     "output_type": "stream",
     "text": [
      "2024-03-05 14:45:42.216111: I tensorflow/stream_executor/cuda/cuda_blas.cc:1614] TensorFloat-32 will be used for the matrix multiplication. This will only be logged once.\n"
     ]
    },
    {
     "name": "stdout",
     "output_type": "stream",
     "text": [
      "20/20 [==============================] - ETA: 0s - loss: -1133.2690 - acc: 0.0175"
     ]
    },
    {
     "name": "stderr",
     "output_type": "stream",
     "text": [
      "2024-03-05 14:45:45.421064: W tensorflow/core/framework/cpu_allocator_impl.cc:82] Allocation of 51380224 exceeds 10% of free system memory.\n"
     ]
    },
    {
     "name": "stdout",
     "output_type": "stream",
     "text": [
      "\b\b\b\b\b\b\b\b\b\b\b\b\b\b\b\b\b\b\b\b\b\b\b\b\b\b\b\b\b\b\b\b\b\b\b\b\b\b\b\b\b\b\b\b\b\b\b\b\b\b\b\b\b\b\b\b\b\b\b\b\b\b\b\b\b\b\b\b\b\b\b\b\b\b\b\b\b\b\b\b\b\r",
      "20/20 [==============================] - 16s 187ms/step - loss: -1133.2690 - acc: 0.0175\n"
     ]
    },
    {
     "name": "stderr",
     "output_type": "stream",
     "text": [
      "2024-03-05 14:45:45.661675: W tensorflow/core/framework/cpu_allocator_impl.cc:82] Allocation of 51380224 exceeds 10% of free system memory.\n"
     ]
    },
    {
     "name": "stdout",
     "output_type": "stream",
     "text": [
      "Epoch 1/10 - Accuracy: 0.017500000074505806\n",
      "20/20 [==============================] - ETA: 0s - loss: -2958.3418 - acc: 0.0350"
     ]
    },
    {
     "name": "stderr",
     "output_type": "stream",
     "text": [
      "2024-03-05 14:45:49.650264: W tensorflow/core/framework/cpu_allocator_impl.cc:82] Allocation of 51380224 exceeds 10% of free system memory.\n"
     ]
    },
    {
     "name": "stdout",
     "output_type": "stream",
     "text": [
      "\b\b\b\b\b\b\b\b\b\b\b\b\b\b\b\b\b\b\b\b\b\b\b\b\b\b\b\b\b\b\b\b\b\b\b\b\b\b\b\b\b\b\b\b\b\b\b\b\b\b\b\b\b\b\b\b\b\b\b\b\b\b\b\b\b\b\b\b\b\b\b\b\b\b\b\b\b\b\b\b\b\r",
      "20/20 [==============================] - 4s 193ms/step - loss: -2958.3418 - acc: 0.0350\n"
     ]
    },
    {
     "name": "stderr",
     "output_type": "stream",
     "text": [
      "2024-03-05 14:45:49.900231: W tensorflow/core/framework/cpu_allocator_impl.cc:82] Allocation of 51380224 exceeds 10% of free system memory.\n"
     ]
    },
    {
     "name": "stdout",
     "output_type": "stream",
     "text": [
      "Epoch 2/10 - Accuracy: 0.03500000014901161\n",
      "20/20 [==============================] - ETA: 0s - loss: -4610.6528 - acc: 0.0275"
     ]
    },
    {
     "name": "stderr",
     "output_type": "stream",
     "text": [
      "2024-03-05 14:45:53.885431: W tensorflow/core/framework/cpu_allocator_impl.cc:82] Allocation of 51380224 exceeds 10% of free system memory.\n"
     ]
    },
    {
     "name": "stdout",
     "output_type": "stream",
     "text": [
      "20/20 [==============================] - 4s 192ms/step - loss: -4610.6528 - acc: 0.0275\n",
      "Epoch 3/10 - Accuracy: 0.027499999850988388\n",
      "20/20 [==============================] - 4s 183ms/step - loss: -6680.9307 - acc: 0.0225\n",
      "Epoch 4/10 - Accuracy: 0.02250000089406967\n",
      "20/20 [==============================] - 4s 188ms/step - loss: -8617.0352 - acc: 0.0350\n",
      "Epoch 5/10 - Accuracy: 0.03500000014901161\n",
      "20/20 [==============================] - 4s 189ms/step - loss: -10461.9316 - acc: 0.0300\n",
      "Epoch 6/10 - Accuracy: 0.029999999329447746\n",
      "20/20 [==============================] - 4s 184ms/step - loss: -12349.1475 - acc: 0.0400\n",
      "Epoch 7/10 - Accuracy: 0.03999999910593033\n",
      "20/20 [==============================] - 4s 186ms/step - loss: -15075.1436 - acc: 0.0400\n",
      "Epoch 8/10 - Accuracy: 0.03999999910593033\n",
      "20/20 [==============================] - 4s 182ms/step - loss: -17545.4121 - acc: 0.0350\n",
      "Epoch 9/10 - Accuracy: 0.03500000014901161\n",
      "20/20 [==============================] - 4s 179ms/step - loss: -20770.4219 - acc: 0.0250\n",
      "Epoch 10/10 - Accuracy: 0.02500000037252903\n",
      "Final Accuracy:  0.02500000037252903\n"
     ]
    }
   ],
   "source": [
    "\n",
    "base_model = VGG16(\n",
    "    input_shape=(224, 224, 3),\n",
    "    include_top=False,\n",
    "    weights='imagenet'\n",
    ")\n",
    "for layer in base_model.layers:\n",
    "    layer.trainable = False\n",
    "\n",
    "x = tf.keras.layers.Flatten()(base_model.output)\n",
    "x = tf.keras.layers.Dense(512, activation='relu')(x)\n",
    "x = tf.keras.layers.Dropout(0.5)(x)\n",
    "x = tf.keras.layers.Dense(1, activation='sigmoid')(x)\n",
    "\n",
    "model = tf.keras.models.Model(base_model.input, x)\n",
    "\n",
    "early_stopping = EarlyStopping(monitor='loss', patience=3, restore_best_weights=True)\n",
    "\n",
    "model.compile(\n",
    "    optimizer=tf.keras.optimizers.RMSprop(lr=0.0001),\n",
    "    loss='binary_crossentropy',\n",
    "    metrics=['acc']\n",
    ")\n",
    "epochs_to_repeat = 10\n",
    "for epoch in range(epochs_to_repeat):\n",
    "    vgghist = model.fit(\n",
    "        train_generator,\n",
    "        steps_per_epoch=20,\n",
    "        epochs=1,\n",
    "        callbacks=[early_stopping]\n",
    "    )\n",
    "    print(f\"Epoch {epoch+1}/{epochs_to_repeat} - Accuracy: {vgghist.history['acc'][0]}\")\n",
    "\n",
    "print(\"Final Accuracy: \", vgghist.history['acc'][-1])"
   ]
  },
  {
   "cell_type": "code",
   "execution_count": 5,
   "id": "3715f66f",
   "metadata": {},
   "outputs": [
    {
     "name": "stdout",
     "output_type": "stream",
     "text": [
      "20/20 [==============================] - ETA: 0s - loss: 0.6660 - acc: 0.7300"
     ]
    },
    {
     "name": "stderr",
     "output_type": "stream",
     "text": [
      "2024-02-09 08:58:42.626104: W tensorflow/core/framework/cpu_allocator_impl.cc:82] Allocation of 177209344 exceeds 10% of free system memory.\n",
      "2024-02-09 08:58:42.983780: W tensorflow/core/framework/cpu_allocator_impl.cc:82] Allocation of 177209344 exceeds 10% of free system memory.\n"
     ]
    },
    {
     "name": "stdout",
     "output_type": "stream",
     "text": [
      "20/20 [==============================] - 6s 188ms/step - loss: 0.6660 - acc: 0.7300\n",
      "Epoch 1/10 - Accuracy: 0.7300000190734863\n",
      "20/20 [==============================] - ETA: 0s - loss: 0.4831 - acc: 0.8300"
     ]
    },
    {
     "name": "stderr",
     "output_type": "stream",
     "text": [
      "2024-02-09 08:58:46.700501: W tensorflow/core/framework/cpu_allocator_impl.cc:82] Allocation of 177209344 exceeds 10% of free system memory.\n",
      "2024-02-09 08:58:46.973879: W tensorflow/core/framework/cpu_allocator_impl.cc:82] Allocation of 177209344 exceeds 10% of free system memory.\n"
     ]
    },
    {
     "name": "stdout",
     "output_type": "stream",
     "text": [
      "20/20 [==============================] - 4s 185ms/step - loss: 0.4831 - acc: 0.8300\n",
      "Epoch 2/10 - Accuracy: 0.8299999833106995\n",
      "20/20 [==============================] - ETA: 0s - loss: 0.4041 - acc: 0.8350"
     ]
    },
    {
     "name": "stderr",
     "output_type": "stream",
     "text": [
      "2024-02-09 08:58:50.900147: W tensorflow/core/framework/cpu_allocator_impl.cc:82] Allocation of 177209344 exceeds 10% of free system memory.\n"
     ]
    },
    {
     "name": "stdout",
     "output_type": "stream",
     "text": [
      "20/20 [==============================] - 4s 184ms/step - loss: 0.4041 - acc: 0.8350\n",
      "Epoch 3/10 - Accuracy: 0.8349999785423279\n",
      "20/20 [==============================] - 4s 201ms/step - loss: 0.3071 - acc: 0.8725\n",
      "Epoch 4/10 - Accuracy: 0.8725000023841858\n",
      "20/20 [==============================] - 4s 222ms/step - loss: 0.2142 - acc: 0.9169\n",
      "Epoch 5/10 - Accuracy: 0.9168765544891357\n",
      "20/20 [==============================] - 4s 176ms/step - loss: 0.1916 - acc: 0.9118\n",
      "Epoch 6/10 - Accuracy: 0.9118387699127197\n",
      "20/20 [==============================] - 4s 180ms/step - loss: 0.1505 - acc: 0.9521\n",
      "Epoch 7/10 - Accuracy: 0.9521410465240479\n",
      "20/20 [==============================] - 4s 178ms/step - loss: 0.1489 - acc: 0.9471\n",
      "Epoch 8/10 - Accuracy: 0.9471032619476318\n",
      "20/20 [==============================] - 4s 177ms/step - loss: 0.1841 - acc: 0.9200\n",
      "Epoch 9/10 - Accuracy: 0.9200000166893005\n",
      "20/20 [==============================] - 4s 178ms/step - loss: 0.0777 - acc: 0.9700\n",
      "Epoch 10/10 - Accuracy: 0.9700000286102295\n",
      "Final Accuracy:  0.9700000286102295\n"
     ]
    }
   ],
   "source": [
    "\n",
    "model = Sequential()\n",
    "model.add(Conv2D(32, (3, 3), activation='relu', input_shape=(224, 224, 3)))\n",
    "model.add(MaxPooling2D((2, 2)))\n",
    "model.add(Conv2D(64, (3, 3), activation='relu'))\n",
    "model.add(MaxPooling2D((2, 2)))\n",
    "model.add(Conv2D(128, (3, 3), activation='relu'))\n",
    "model.add(MaxPooling2D((2, 2)))\n",
    "model.add(Flatten())\n",
    "model.add(Dense(512, activation='relu'))\n",
    "model.add(Dropout(0.5))\n",
    "model.add(Dense(1, activation='sigmoid'))\n",
    "early_stopping = EarlyStopping(monitor='loss', patience=3, restore_best_weights=True)\n",
    "\n",
    "model.compile(\n",
    "    optimizer=tf.keras.optimizers.RMSprop(lr=0.0001),\n",
    "    loss='binary_crossentropy',\n",
    "    metrics=['acc']\n",
    ")\n",
    "\n",
    "epochs_to_repeat = 10\n",
    "for epoch in range(epochs_to_repeat):\n",
    "    hist = model.fit(\n",
    "        train_generator,\n",
    "        steps_per_epoch=20,\n",
    "        epochs=1,\n",
    "        callbacks=[early_stopping]\n",
    "    )\n",
    "    print(f\"Epoch {epoch+1}/{epochs_to_repeat} - Accuracy: {hist.history['acc'][0]}\")\n",
    "print(\"Final Accuracy: \", hist.history['acc'][-1])"
   ]
  }
 ],
 "metadata": {
  "kernelspec": {
   "display_name": "Python 3 (ipykernel)",
   "language": "python",
   "name": "python3"
  },
  "language_info": {
   "codemirror_mode": {
    "name": "ipython",
    "version": 3
   },
   "file_extension": ".py",
   "mimetype": "text/x-python",
   "name": "python",
   "nbconvert_exporter": "python",
   "pygments_lexer": "ipython3",
   "version": "3.9.16"
  }
 },
 "nbformat": 4,
 "nbformat_minor": 5
}
